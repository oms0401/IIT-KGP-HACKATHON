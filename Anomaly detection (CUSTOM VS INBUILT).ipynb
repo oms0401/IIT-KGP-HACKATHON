{
  "cells": [
    {
      "cell_type": "markdown",
      "metadata": {
        "id": "H8hX7wpVlNlK"
      },
      "source": [
        "# 5. Anomaly Detection (20 points)\n",
        "This implements and compares different anomaly detection methods on the dataset."
      ]
    },
    {
      "cell_type": "code",
      "execution_count": 1,
      "metadata": {
        "id": "opUvdPAtN_cF"
      },
      "outputs": [],
      "source": [
        "import numpy as np\n",
        "import pandas as pd\n",
        "import matplotlib.pyplot as plt\n",
        "import seaborn as sns\n",
        "from sklearn.preprocessing import StandardScaler\n",
        "from sklearn.ensemble import IsolationForest\n",
        "from sklearn.metrics import confusion_matrix\n",
        "from scipy.stats import zscore\n",
        "import tensorflow as tf\n",
        "from tensorflow.keras.layers import Dense, Dropout, Input\n",
        "from tensorflow.keras.models import Model\n",
        "import warnings\n",
        "warnings.filterwarnings('ignore')"
      ]
    },
    {
      "cell_type": "code",
      "execution_count": 2,
      "metadata": {
        "id": "mgMSJb1PNcvt"
      },
      "outputs": [],
      "source": [
        "df=pd.read_csv('/content/cleaned.csv')"
      ]
    },
    {
      "cell_type": "code",
      "execution_count": 3,
      "metadata": {
        "colab": {
          "base_uri": "https://localhost:8080/"
        },
        "id": "N3O2YsNZWQ99",
        "outputId": "9f6a54ea-3341-4447-a2b3-0b6e0bb844dc"
      },
      "outputs": [
        {
          "name": "stdout",
          "output_type": "stream",
          "text": [
            "<class 'pandas.core.frame.DataFrame'>\n",
            "RangeIndex: 4534 entries, 0 to 4533\n",
            "Data columns (total 46 columns):\n",
            " #   Column                                  Non-Null Count  Dtype  \n",
            "---  ------                                  --------------  -----  \n",
            " 0   Name                                    4534 non-null   float64\n",
            " 1   Epoch Date Close Approach               4534 non-null   object \n",
            " 2   Relative Velocity km per hr             4534 non-null   float64\n",
            " 3   Miles per hour                          4534 non-null   float64\n",
            " 4   Miss Dist.(Astronomical)                4534 non-null   float64\n",
            " 5   Miss Dist.(lunar)                       4534 non-null   float64\n",
            " 6   Miss Dist.(kilometers)                  4534 non-null   float64\n",
            " 7   Miss Dist.(miles)                       4534 non-null   float64\n",
            " 8   Jupiter Tisserand Invariant             4534 non-null   float64\n",
            " 9   Epoch Osculation                        4534 non-null   float64\n",
            " 10  Semi Major Axis                         4534 non-null   float64\n",
            " 11  Asc Node Longitude                      4534 non-null   float64\n",
            " 12  Perihelion Arg                          4534 non-null   float64\n",
            " 13  Aphelion Dist                           4534 non-null   float64\n",
            " 14  Perihelion Time                         4534 non-null   float64\n",
            " 15  Mean Anomaly                            4534 non-null   float64\n",
            " 16  Mean Motion                             4534 non-null   float64\n",
            " 17  Hazardous                               4534 non-null   int64  \n",
            " 18  approach_date                           4534 non-null   object \n",
            " 19  time_until_approach                     4534 non-null   int64  \n",
            " 20  miss_distance_ratio                     4534 non-null   float64\n",
            " 21  Perihelion Dist                         4534 non-null   float64\n",
            " 22  eccentricity                            4534 non-null   float64\n",
            " 23  semi_major_axis_m                       4534 non-null   float64\n",
            " 24  avg_orbital_velocity                    4534 non-null   float64\n",
            " 25  heliocentric_distance                   4534 non-null   float64\n",
            " 26  escape_velocity                         4534 non-null   float64\n",
            " 27  specific_orbital_energy                 4534 non-null   float64\n",
            " 28  specific_angular_momentum               4534 non-null   float64\n",
            " 29  velocity_perihelion                     4534 non-null   float64\n",
            " 30  velocity_aphelion                       4534 non-null   float64\n",
            " 31  average_miss_distance                   4534 non-null   float64\n",
            " 32  closest_approach_distance               4534 non-null   float64\n",
            " 33  synodic_period                          4534 non-null   float64\n",
            " 34  orbital_period_seconds                  4534 non-null   float64\n",
            " 35  mean_motion                             4534 non-null   float64\n",
            " 36  Relative Velocity km per sec_Fast       4534 non-null   bool   \n",
            " 37  Relative Velocity km per sec_Slow       4534 non-null   bool   \n",
            " 38  Relative Velocity km per sec_Very Fast  4534 non-null   bool   \n",
            " 39  Relative Velocity km per sec_Very Slow  4534 non-null   bool   \n",
            " 40  Orbital Period_High                     4534 non-null   bool   \n",
            " 41  Orbital Period_Low                      4534 non-null   bool   \n",
            " 42  Orbital Period_Medium                   4534 non-null   bool   \n",
            " 43  Orbit Uncertainity_High                 4534 non-null   bool   \n",
            " 44  Orbit Uncertainity_Low                  4534 non-null   bool   \n",
            " 45  Orbit Uncertainity_Medium               4534 non-null   bool   \n",
            "dtypes: bool(10), float64(32), int64(2), object(2)\n",
            "memory usage: 1.3+ MB\n"
          ]
        }
      ],
      "source": [
        "df.info()"
      ]
    },
    {
      "cell_type": "markdown",
      "metadata": {
        "id": "7i3vYqi9lqPa"
      },
      "source": [
        "## 5.2 Custom Anomaly Detection Algorithm (12 marks)\n",
        "Implementing a distance and density-based anomaly detection algorithm using Local Outlier Factor (LOF)"
      ]
    },
    {
      "cell_type": "code",
      "execution_count": 4,
      "metadata": {
        "id": "gLIEwNCqi6lt"
      },
      "outputs": [],
      "source": [
        "class CustomAutoEncoder:\n",
        "    def __init__(self, encoding_dim=10):\n",
        "        self.encoding_dim = encoding_dim\n",
        "        self.autoencoder = None\n",
        "        self.threshold = None\n",
        "\n",
        "    def build_model(self, input_dim):\n",
        "        \n",
        "        input_layer = Input(shape=(input_dim,))\n",
        "        encoder = Dense(32, activation='relu')(input_layer)\n",
        "        encoder = Dropout(0.2)(encoder)\n",
        "        encoder = Dense(16, activation='relu')(encoder)\n",
        "        encoder = Dense(self.encoding_dim, activation='relu')(encoder)\n",
        "\n",
        "        \n",
        "        decoder = Dense(16, activation='relu')(encoder)\n",
        "        decoder = Dropout(0.2)(decoder)\n",
        "        decoder = Dense(32, activation='relu')(decoder)\n",
        "        decoder = Dense(input_dim, activation='sigmoid')(decoder)\n",
        "\n",
        "        \n",
        "        self.autoencoder = Model(input_layer, decoder)\n",
        "        self.autoencoder.compile(optimizer='adam', loss='mse')\n",
        "\n",
        "    def fit(self, X, epochs=50, batch_size=32):\n",
        "        self.build_model(X.shape[1])\n",
        "        history = self.autoencoder.fit(X, X, epochs=epochs, batch_size=batch_size,\n",
        "                                     validation_split=0.2, verbose=0)\n",
        "\n",
        "        \n",
        "        reconstructed = self.autoencoder.predict(X)\n",
        "        mse = np.mean(np.power(X - reconstructed, 2), axis=1)\n",
        "        self.threshold = np.percentile(mse, 95) \n",
        "\n",
        "        return history\n",
        "\n",
        "    def predict(self, X):\n",
        "        reconstructed = self.autoencoder.predict(X)\n",
        "        mse = np.mean(np.power(X - reconstructed, 2), axis=1)\n",
        "        return (mse > self.threshold).astype(int)"
      ]
    },
    {
      "cell_type": "code",
      "execution_count": 5,
      "metadata": {
        "id": "ymvolQTy5okv"
      },
      "outputs": [],
      "source": [
        "class CustomEnsembleAnomalyDetector:\n",
        "    def __init__(self):\n",
        "        self.scaler = StandardScaler()\n",
        "        self.feature_thresholds = {}\n",
        "\n",
        "    def calculate_local_outlier_score(self, X):\n",
        "        \n",
        "        distances = np.zeros(X.shape[0])\n",
        "        for i in range(X.shape[0]):\n",
        "            dist_to_others = np.linalg.norm(X - X[i], axis=1)\n",
        "            distances[i] = np.mean(np.sort(dist_to_others)[1:6])  \n",
        "        return distances\n",
        "\n",
        "    def calculate_feature_importance(self, X):\n",
        "        \n",
        "        correlations = np.corrcoef(X.T)\n",
        "        importance = np.var(X, axis=0) * (1 - np.mean(np.abs(correlations), axis=0))\n",
        "        return importance\n",
        "\n",
        "    def fit(self, X):\n",
        "        \n",
        "        X_scaled = self.scaler.fit_transform(X)\n",
        "\n",
        "        \n",
        "        importance = self.calculate_feature_importance(X_scaled)\n",
        "\n",
        "        \n",
        "        for i in range(X.shape[1]):\n",
        "            weights = importance[i] * np.ones_like(X_scaled[:, i])\n",
        "            threshold = np.mean(X_scaled[:, i]) + 2 * np.std(X_scaled[:, i] * weights)\n",
        "            self.feature_thresholds[i] = threshold\n",
        "\n",
        "        \n",
        "        self.local_outlier_threshold = np.percentile(\n",
        "            self.calculate_local_outlier_score(X_scaled), 95)\n",
        "\n",
        "    def predict(self, X):\n",
        "        X_scaled = self.scaler.transform(X)\n",
        "\n",
        "       \n",
        "        feature_scores = np.zeros(X.shape[0])\n",
        "        for i in range(X.shape[1]):\n",
        "            feature_scores += (np.abs(X_scaled[:, i]) > self.feature_thresholds[i]).astype(int)\n",
        "\n",
        "        \n",
        "        local_scores = self.calculate_local_outlier_score(X_scaled)\n",
        "\n",
        "        \n",
        "        final_scores = (feature_scores > X.shape[1] * 0.3) | \\\n",
        "                      (local_scores > self.local_outlier_threshold)\n",
        "\n",
        "        return final_scores.astype(int)"
      ]
    },
    {
      "cell_type": "code",
      "execution_count": 6,
      "metadata": {
        "id": "AZ3t98ly5oiR"
      },
      "outputs": [],
      "source": [
        "def plot_confusion_matrices(y_true1, y_pred1, y_true2, y_pred2, titles):\n",
        "    fig, (ax1, ax2) = plt.subplots(1, 2, figsize=(15, 5))\n",
        "\n",
        "   \n",
        "    cm1 = confusion_matrix(y_true1, y_pred1)\n",
        "    sns.heatmap(cm1, annot=True, fmt='d', ax=ax1, cmap='Blues')\n",
        "    ax1.set_title(titles[0])\n",
        "    ax1.set_xlabel('Predicted')\n",
        "    ax1.set_ylabel('True')\n",
        "\n",
        "    \n",
        "    cm2 = confusion_matrix(y_true2, y_pred2)\n",
        "    sns.heatmap(cm2, annot=True, fmt='d', ax=ax2, cmap='Blues')\n",
        "    ax2.set_title(titles[1])\n",
        "    ax2.set_xlabel('Predicted')\n",
        "    ax2.set_ylabel('True')\n",
        "\n",
        "    plt.tight_layout()\n",
        "    return plt"
      ]
    },
    {
      "cell_type": "code",
      "execution_count": 7,
      "metadata": {
        "id": "bIn9NCbr5ofr"
      },
      "outputs": [],
      "source": [
        "def prepare_data(df):\n",
        "    \n",
        "    numeric_cols = df.select_dtypes(include=['float64', 'int64']).columns\n",
        "    X = df[numeric_cols].drop(['Hazardous'], axis=1, errors='ignore')\n",
        "\n",
        "   \n",
        "    X = X.loc[:, X.std() > 0]\n",
        "\n",
        "    return X"
      ]
    },
    {
      "cell_type": "markdown",
      "metadata": {
        "id": "7S6nS9k6lYHe"
      },
      "source": [
        "## 5.1 Inbuilt Library Implementation (4 marks)\n",
        "Using Isolation Forest as the built-in anomaly detection method"
      ]
    },
    {
      "cell_type": "code",
      "execution_count": 10,
      "metadata": {
        "id": "K1AaA2Iv5odB"
      },
      "outputs": [],
      "source": [
        "def main(df):\n",
        "    print(\"Starting Anomaly Detection Analysis...\")\n",
        "    X = prepare_data(df)\n",
        "\n",
        "    # 1. Built-in Method: Isolation Forest\n",
        "    print(\"\\n1. Implementing Isolation Forest...\")\n",
        "    iso_forest = IsolationForest(contamination=0.1, random_state=42)\n",
        "    df['anomaly_isolation_forest'] = iso_forest.fit_predict(X)\n",
        "    df['anomaly_isolation_forest'] = (df['anomaly_isolation_forest'] == -1).astype(int)\n",
        "\n",
        "    # 2. Custom Method: Ensemble Anomaly Detector\n",
        "    print(\"\\n2. Implementing Custom Ensemble Detector...\")\n",
        "    custom_detector = CustomEnsembleAnomalyDetector()\n",
        "    custom_detector.fit(X)\n",
        "    df['anomaly_custom'] = custom_detector.predict(X)\n",
        "\n",
        "    # Additional Validation: Autoencoder\n",
        "    print(\"\\n3. Implementing Autoencoder for validation...\")\n",
        "    autoencoder = CustomAutoEncoder(encoding_dim=8)\n",
        "    autoencoder.fit(X)\n",
        "    df['anomaly_autoencoder'] = autoencoder.predict(X)\n",
        "\n",
        "    \n",
        "    print(\"\\nResults Summary:\")\n",
        "    print(f\"Isolation Forest detected {df['anomaly_isolation_forest'].sum()} anomalies\")\n",
        "    print(f\"Custom Detector detected {df['anomaly_custom'].sum()} anomalies\")\n",
        "    print(f\"Autoencoder detected {df['anomaly_autoencoder'].sum()} anomalies\")\n",
        "\n",
        "   \n",
        "    both_methods = ((df['anomaly_isolation_forest'] == 1) &\n",
        "                   (df['anomaly_custom'] == 1)).sum()\n",
        "    print(f\"\\nNumber of anomalies flagged by both main methods: {both_methods}\")\n",
        "\n",
        "    \n",
        "    plt.figure(figsize=(15, 5))\n",
        "    plot_confusion_matrices(\n",
        "        df['anomaly_isolation_forest'], df['anomaly_custom'],\n",
        "        df['anomaly_isolation_forest'], df['anomaly_autoencoder'],\n",
        "        ['Isolation Forest vs Custom Detector', 'Isolation Forest vs Autoencoder']\n",
        "    )\n",
        "    plt.show()\n",
        "\n",
        "    return df"
      ]
    },
    {
      "cell_type": "code",
      "execution_count": 11,
      "metadata": {
        "colab": {
          "base_uri": "https://localhost:8080/",
          "height": 688
        },
        "id": "XZx_D_uZ5oaG",
        "outputId": "697ac77a-aed5-4989-d2e1-8b7e7c44edbf"
      },
      "outputs": [
        {
          "name": "stdout",
          "output_type": "stream",
          "text": [
            "Starting Anomaly Detection Analysis...\n",
            "\n",
            "1. Implementing Isolation Forest...\n",
            "\n",
            "2. Implementing Custom Ensemble Detector...\n",
            "\n",
            "3. Implementing Autoencoder for validation...\n",
            "\u001b[1m142/142\u001b[0m \u001b[32m━━━━━━━━━━━━━━━━━━━━\u001b[0m\u001b[37m\u001b[0m \u001b[1m1s\u001b[0m 3ms/step\n",
            "\u001b[1m142/142\u001b[0m \u001b[32m━━━━━━━━━━━━━━━━━━━━\u001b[0m\u001b[37m\u001b[0m \u001b[1m0s\u001b[0m 1ms/step\n",
            "\n",
            "Results Summary:\n",
            "Isolation Forest detected 454 anomalies\n",
            "Custom Detector detected 534 anomalies\n",
            "Autoencoder detected 0 anomalies\n",
            "\n",
            "Number of anomalies flagged by both main methods: 381\n"
          ]
        },
        {
          "data": {
            "text/plain": [
              "<Figure size 1500x500 with 0 Axes>"
            ]
          },
          "metadata": {},
          "output_type": "display_data"
        },
        {
          "data": {
            "image/png": "[encoded data removed]",
            "text/plain": [
              "<Figure size 1500x500 with 4 Axes>"
            ]
          },
          "metadata": {},
          "output_type": "display_data"
        }
      ],
      "source": [
        "df_with_anomalies = main(df)"
      ]
    },
    {
      "cell_type": "code",
      "execution_count": null,
      "metadata": {
        "id": "5Tos07GOWw3W"
      },
      "outputs": [],
      "source": []
    }
  ],
  "metadata": {
    "accelerator": "GPU",
    "colab": {
      "gpuType": "T4",
      "provenance": []
    },
    "kernelspec": {
      "display_name": "Python 3",
      "name": "python3"
    },
    "language_info": {
      "name": "python"
    }
  },
  "nbformat": 4,
  "nbformat_minor": 0
}
